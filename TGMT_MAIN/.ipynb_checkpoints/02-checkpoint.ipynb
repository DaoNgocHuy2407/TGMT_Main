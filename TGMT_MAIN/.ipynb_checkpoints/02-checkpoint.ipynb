{
 "cells": [
  {
   "cell_type": "code",
   "execution_count": 1,
   "id": "0e450fae-8e48-4428-8178-95b14efbaac2",
   "metadata": {},
   "outputs": [
    {
     "name": "stdout",
     "output_type": "stream",
     "text": [
      "Requirement already satisfied: Pillow in c:\\users\\admin\\appdata\\roaming\\python\\python312\\site-packages (10.4.0)\n"
     ]
    }
   ],
   "source": [
    "!pip install Pillow"
   ]
  },
  {
   "cell_type": "code",
   "execution_count": 2,
   "id": "fe388a5a-f58f-4bce-881f-d17db4559cbc",
   "metadata": {},
   "outputs": [],
   "source": [
    "from PIL import Image\n",
    "from imgtools import *\n",
    "from IPython.display import display # to display images"
   ]
  },
  {
   "cell_type": "code",
   "execution_count": 3,
   "id": "f09cf2fa-992f-48ca-a79d-ae629a5b8332",
   "metadata": {},
   "outputs": [],
   "source": [
    "my_dir = 'C:/Users/ADMIN/OneDrive/Documents/crs/img/01'"
   ]
  },
  {
   "cell_type": "code",
   "execution_count": 1,
   "id": "01dded37-513b-4d92-9b2e-59991f5ff1fe",
   "metadata": {},
   "outputs": [
    {
     "ename": "NameError",
     "evalue": "name 'get_image_list' is not defined",
     "output_type": "error",
     "traceback": [
      "\u001b[1;31m---------------------------------------------------------------------------\u001b[0m",
      "\u001b[1;31mNameError\u001b[0m                                 Traceback (most recent call last)",
      "Cell \u001b[1;32mIn[1], line 2\u001b[0m\n\u001b[0;32m      1\u001b[0m \u001b[38;5;66;03m# Đọc nhiều ảnh\u001b[39;00m\n\u001b[1;32m----> 2\u001b[0m imgs \u001b[38;5;241m=\u001b[39m  get_image_list(my_dir)\n",
      "\u001b[1;31mNameError\u001b[0m: name 'get_image_list' is not defined"
     ]
    }
   ],
   "source": [
    "# Đọc nhiều ảnh\n",
    "imgs =  get_image_list(my_dir)"
   ]
  },
  {
   "cell_type": "code",
   "execution_count": 2,
   "id": "57724ef9-78cf-4542-986e-6bf15e5b3c91",
   "metadata": {},
   "outputs": [
    {
     "ename": "NameError",
     "evalue": "name 'imgs' is not defined",
     "output_type": "error",
     "traceback": [
      "\u001b[1;31m---------------------------------------------------------------------------\u001b[0m",
      "\u001b[1;31mNameError\u001b[0m                                 Traceback (most recent call last)",
      "Cell \u001b[1;32mIn[2], line 1\u001b[0m\n\u001b[1;32m----> 1\u001b[0m \u001b[38;5;28;01mfor\u001b[39;00m img \u001b[38;5;129;01min\u001b[39;00m imgs:\n\u001b[0;32m      2\u001b[0m     \u001b[38;5;28mprint\u001b[39m(img\u001b[38;5;241m.\u001b[39msize)\n\u001b[0;32m      3\u001b[0m     display(img)\n",
      "\u001b[1;31mNameError\u001b[0m: name 'imgs' is not defined"
     ]
    }
   ],
   "source": [
    "for img in imgs:\n",
    "    print(img.size)\n",
    "    display(img)"
   ]
  },
  {
   "cell_type": "code",
   "execution_count": null,
   "id": "fd6f21fe-f533-4624-a172-4db365136d22",
   "metadata": {},
   "outputs": [],
   "source": []
  }
 ],
 "metadata": {
  "kernelspec": {
   "display_name": "Python 3 (ipykernel)",
   "language": "python",
   "name": "python3"
  },
  "language_info": {
   "codemirror_mode": {
    "name": "ipython",
    "version": 3
   },
   "file_extension": ".py",
   "mimetype": "text/x-python",
   "name": "python",
   "nbconvert_exporter": "python",
   "pygments_lexer": "ipython3",
   "version": "3.12.4"
  }
 },
 "nbformat": 4,
 "nbformat_minor": 5
}
